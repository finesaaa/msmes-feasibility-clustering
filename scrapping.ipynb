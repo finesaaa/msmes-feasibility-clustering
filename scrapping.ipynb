{
 "cells": [
  {
   "cell_type": "markdown",
   "metadata": {},
   "source": [
    "# Selenium"
   ]
  },
  {
   "cell_type": "code",
   "execution_count": 1,
   "metadata": {},
   "outputs": [
    {
     "name": "stdout",
     "output_type": "stream",
     "text": [
      "Requirement already satisfied: selenium in c:\\users\\inspiron5000\\anaconda3\\lib\\site-packages (4.6.0)\n",
      "Requirement already satisfied: urllib3[socks]~=1.26 in c:\\users\\inspiron5000\\anaconda3\\lib\\site-packages (from selenium) (1.26.12)\n",
      "Requirement already satisfied: trio-websocket~=0.9 in c:\\users\\inspiron5000\\anaconda3\\lib\\site-packages (from selenium) (0.9.2)\n",
      "Requirement already satisfied: trio~=0.17 in c:\\users\\inspiron5000\\anaconda3\\lib\\site-packages (from selenium) (0.22.0)\n",
      "Requirement already satisfied: certifi>=2021.10.8 in c:\\users\\inspiron5000\\anaconda3\\lib\\site-packages (from selenium) (2022.9.24)\n",
      "Requirement already satisfied: PySocks!=1.5.7,<2.0,>=1.5.6; extra == \"socks\" in c:\\users\\inspiron5000\\anaconda3\\lib\\site-packages (from urllib3[socks]~=1.26->selenium) (1.7.1)\n",
      "Requirement already satisfied: wsproto>=0.14 in c:\\users\\inspiron5000\\anaconda3\\lib\\site-packages (from trio-websocket~=0.9->selenium) (1.2.0)\n",
      "Requirement already satisfied: async-generator>=1.10 in c:\\users\\inspiron5000\\anaconda3\\lib\\site-packages (from trio-websocket~=0.9->selenium) (1.10)\n",
      "Requirement already satisfied: sortedcontainers in c:\\users\\inspiron5000\\anaconda3\\lib\\site-packages (from trio~=0.17->selenium) (2.2.2)\n",
      "Requirement already satisfied: idna in c:\\users\\inspiron5000\\anaconda3\\lib\\site-packages (from trio~=0.17->selenium) (2.10)\n",
      "Requirement already satisfied: attrs>=19.2.0 in c:\\users\\inspiron5000\\anaconda3\\lib\\site-packages (from trio~=0.17->selenium) (20.3.0)\n",
      "Requirement already satisfied: cffi>=1.14; os_name == \"nt\" and implementation_name != \"pypy\" in c:\\users\\inspiron5000\\anaconda3\\lib\\site-packages (from trio~=0.17->selenium) (1.14.3)\n",
      "Requirement already satisfied: exceptiongroup>=1.0.0rc9; python_version < \"3.11\" in c:\\users\\inspiron5000\\anaconda3\\lib\\site-packages (from trio~=0.17->selenium) (1.0.4)\n",
      "Requirement already satisfied: sniffio in c:\\users\\inspiron5000\\anaconda3\\lib\\site-packages (from trio~=0.17->selenium) (1.3.0)\n",
      "Requirement already satisfied: outcome in c:\\users\\inspiron5000\\anaconda3\\lib\\site-packages (from trio~=0.17->selenium) (1.2.0)\n",
      "Requirement already satisfied: h11<1,>=0.9.0 in c:\\users\\inspiron5000\\anaconda3\\lib\\site-packages (from wsproto>=0.14->trio-websocket~=0.9->selenium) (0.14.0)\n",
      "Requirement already satisfied: pycparser in c:\\users\\inspiron5000\\anaconda3\\lib\\site-packages (from cffi>=1.14; os_name == \"nt\" and implementation_name != \"pypy\"->trio~=0.17->selenium) (2.20)\n",
      "Note: you may need to restart the kernel to use updated packages.\n"
     ]
    }
   ],
   "source": [
    "pip install selenium"
   ]
  },
  {
   "cell_type": "code",
   "execution_count": 2,
   "metadata": {},
   "outputs": [
    {
     "data": {
      "text/plain": [
       "<table class=\"table table-striped mb-0\" id=\"tb_sektor\">\n",
       "<thead>\n",
       "<tr>\n",
       "<th class=\"pl-4\" rowspan=\"2\" scope=\"col\" style=\"width: 80%;\">Sektor</th>\n",
       "<th rowspan=\"2\" scope=\"col\" style=\"width: 15%;\">Jumlah Perusahaan</th>\n",
       "</tr>\n",
       "</thead>\n",
       "<tbody><tr><td align=\"left\" class=\"text-decoration-none\"><a href=\"javascript:void(0)\" onclick='_sektordetail(\"1|Pertanian, Kehutanan, dan Perikanan\")'>Pertanian, Kehutanan, dan Perikanan</a></td><td align=\"center\" style=\"vertical-align:middle\">1108</td></tr><tr><td align=\"left\" class=\"text-decoration-none\"><a href=\"javascript:void(0)\" onclick='_sektordetail(\"2|Pertambangan dan Penggalian\")'>Pertambangan dan Penggalian</a></td><td align=\"center\" style=\"vertical-align:middle\">22</td></tr><tr><td align=\"left\" class=\"text-decoration-none\"><a href=\"javascript:void(0)\" onclick='_sektordetail(\"3|Industri Pengolahan\")'>Industri Pengolahan</a></td><td align=\"center\" style=\"vertical-align:middle\">4130</td></tr><tr><td align=\"left\" class=\"text-decoration-none\"><a href=\"javascript:void(0)\" onclick='_sektordetail(\"4|Pengadaan Listrik, Gas, Uap Air Panas dan Udara Dingin\")'>Pengadaan Listrik, Gas, Uap Air Panas dan Udara Dingin</a></td><td align=\"center\" style=\"vertical-align:middle\">12</td></tr><tr><td align=\"left\" class=\"text-decoration-none\"><a href=\"javascript:void(0)\" onclick='_sektordetail(\"5|Pengadaan Air, Pengelolaan Sampah dan Daur Ulang, Pembuangan dan Pembersihan Limbah dan Sampah\")'>Pengadaan Air, Pengelolaan Sampah dan Daur Ulang, Pembuangan dan Pembersihan Limbah dan Sampah</a></td><td align=\"center\" style=\"vertical-align:middle\">29</td></tr><tr><td align=\"left\" class=\"text-decoration-none\"><a href=\"javascript:void(0)\" onclick='_sektordetail(\"6|Konstruksi\")'>Konstruksi</a></td><td align=\"center\" style=\"vertical-align:middle\">162</td></tr><tr><td align=\"left\" class=\"text-decoration-none\"><a href=\"javascript:void(0)\" onclick='_sektordetail(\"7|Perdagangan Besar dan Eceran Reparasi dan Perawatan Mobil dan Sepeda Motor\")'>Perdagangan Besar dan Eceran Reparasi dan Perawatan Mobil dan Sepeda Motor</a></td><td align=\"center\" style=\"vertical-align:middle\">5192</td></tr><tr><td align=\"left\" class=\"text-decoration-none\"><a href=\"javascript:void(0)\" onclick='_sektordetail(\"8|Transportasi dan Pergudangan\")'>Transportasi dan Pergudangan</a></td><td align=\"center\" style=\"vertical-align:middle\">42</td></tr><tr><td align=\"left\" class=\"text-decoration-none\"><a href=\"javascript:void(0)\" onclick='_sektordetail(\"9|Penyediaan Akomodasi dan Penyediaan Makan Minum\")'>Penyediaan Akomodasi dan Penyediaan Makan Minum</a></td><td align=\"center\" style=\"vertical-align:middle\">844</td></tr><tr><td align=\"left\" class=\"text-decoration-none\"><a href=\"javascript:void(0)\" onclick='_sektordetail(\"10|Informasi dan Komunikasi\")'>Informasi dan Komunikasi</a></td><td align=\"center\" style=\"vertical-align:middle\">55</td></tr><tr><td align=\"left\" class=\"text-decoration-none\"><a href=\"javascript:void(0)\" onclick='_sektordetail(\"11|Jasa Keuangan dan Asuransi\")'>Jasa Keuangan dan Asuransi</a></td><td align=\"center\" style=\"vertical-align:middle\">20</td></tr><tr><td align=\"left\" class=\"text-decoration-none\"><a href=\"javascript:void(0)\" onclick='_sektordetail(\"12|Real Estate\")'>Real Estate</a></td><td align=\"center\" style=\"vertical-align:middle\">1</td></tr><tr><td align=\"left\" class=\"text-decoration-none\"><a href=\"javascript:void(0)\" onclick='_sektordetail(\"13|Jasa Profesional, Ilmiah dan Teknis\")'>Jasa Profesional, Ilmiah dan Teknis</a></td><td align=\"center\" style=\"vertical-align:middle\">363</td></tr><tr><td align=\"left\" class=\"text-decoration-none\"><a href=\"javascript:void(0)\" onclick='_sektordetail(\"14|Jasa Persewaan dan Sewa Guna Usaha Tanpa Hak Opsi, Ketenagakerjaan, Agen Perjalanan dan Penunjang Usaha Lainnya\")'>Jasa Persewaan dan Sewa Guna Usaha Tanpa Hak Opsi, Ketenagakerjaan, Agen Perjalanan dan Penunjang Usaha Lainnya</a></td><td align=\"center\" style=\"vertical-align:middle\">99</td></tr><tr><td align=\"left\" class=\"text-decoration-none\"><a href=\"javascript:void(0)\" onclick='_sektordetail(\"15|Administrasi Pemerintahan, Pertahanan dan Jaminan Sosial Wajib\")'>Administrasi Pemerintahan, Pertahanan dan Jaminan Sosial Wajib</a></td><td align=\"center\" style=\"vertical-align:middle\">1</td></tr><tr><td align=\"left\" class=\"text-decoration-none\"><a href=\"javascript:void(0)\" onclick='_sektordetail(\"16|Jasa Pendidikan\")'>Jasa Pendidikan</a></td><td align=\"center\" style=\"vertical-align:middle\">16</td></tr><tr><td align=\"left\" class=\"text-decoration-none\"><a href=\"javascript:void(0)\" onclick='_sektordetail(\"17|Jasa Kesehatan dan Kegiatan Sosial\")'>Jasa Kesehatan dan Kegiatan Sosial</a></td><td align=\"center\" style=\"vertical-align:middle\">16</td></tr><tr><td align=\"left\" class=\"text-decoration-none\"><a href=\"javascript:void(0)\" onclick='_sektordetail(\"18|Kesenian, Hiburan dan Rekreasi\")'>Kesenian, Hiburan dan Rekreasi</a></td><td align=\"center\" style=\"vertical-align:middle\">51</td></tr><tr><td align=\"left\" class=\"text-decoration-none\"><a href=\"javascript:void(0)\" onclick='_sektordetail(\"19|Kegiatan Jasa Lainnya\")'>Kegiatan Jasa Lainnya</a></td><td align=\"center\" style=\"vertical-align:middle\">590</td></tr><tr><td align=\"left\" class=\"text-decoration-none\"><a href=\"javascript:void(0)\" onclick='_sektordetail(\"20|Jasa Perorangan yg Melayani RT, Keg yg Menghasilkan Brg &amp; Jasa oleh RT yg Digunakan Sendiri utk Memenuhi Kebutuhan\")'>Jasa Perorangan yg Melayani RT, Keg yg Menghasilkan Brg &amp; Jasa oleh RT yg Digunakan Sendiri utk Memenuhi Kebutuhan</a></td><td align=\"center\" style=\"vertical-align:middle\">77</td></tr></tbody>\n",
       "</table>"
      ]
     },
     "execution_count": 2,
     "metadata": {},
     "output_type": "execute_result"
    }
   ],
   "source": [
    "import requests \n",
    "from selenium import webdriver\n",
    "from bs4 import BeautifulSoup \n",
    "import time\n",
    "url = 'https://www.bi.go.id/bisaid'\n",
    "driver = webdriver.Chrome()\n",
    "driver.get(url)\n",
    "time.sleep(5)\n",
    "html = driver.page_source\n",
    "soup = BeautifulSoup(html,'html.parser')\n",
    "table1 = soup.find('table', id='tb_sektor')\n",
    "table1"
   ]
  },
  {
   "cell_type": "code",
   "execution_count": 3,
   "metadata": {},
   "outputs": [
    {
     "data": {
      "text/plain": [
       "['Sektor', 'Jumlah Perusahaan']"
      ]
     },
     "execution_count": 3,
     "metadata": {},
     "output_type": "execute_result"
    }
   ],
   "source": [
    "headers = []\n",
    "for i in table1.find_all('th'):\n",
    "    header = i.text\n",
    "    headers.append(header)\n",
    "\n",
    "headers"
   ]
  },
  {
   "cell_type": "code",
   "execution_count": 4,
   "metadata": {},
   "outputs": [],
   "source": [
    "import pandas as pd\n",
    "df_sektor = pd.DataFrame(columns=headers)"
   ]
  },
  {
   "cell_type": "code",
   "execution_count": 5,
   "metadata": {},
   "outputs": [
    {
     "name": "stdout",
     "output_type": "stream",
     "text": [
      "Pertanian, Kehutanan, dan Perikanan1108Pertambangan dan Penggalian22Industri Pengolahan4130Pengadaan Listrik, Gas, Uap Air Panas dan Udara Dingin12Pengadaan Air, Pengelolaan Sampah dan Daur Ulang, Pembuangan dan Pembersihan Limbah dan Sampah29Konstruksi162Perdagangan Besar dan Eceran Reparasi dan Perawatan Mobil dan Sepeda Motor5192Transportasi dan Pergudangan42Penyediaan Akomodasi dan Penyediaan Makan Minum844Informasi dan Komunikasi55Jasa Keuangan dan Asuransi20Real Estate1Jasa Profesional, Ilmiah dan Teknis363Jasa Persewaan dan Sewa Guna Usaha Tanpa Hak Opsi, Ketenagakerjaan, Agen Perjalanan dan Penunjang Usaha Lainnya99Administrasi Pemerintahan, Pertahanan dan Jaminan Sosial Wajib1Jasa Pendidikan16Jasa Kesehatan dan Kegiatan Sosial16Kesenian, Hiburan dan Rekreasi51Kegiatan Jasa Lainnya590Jasa Perorangan yg Melayani RT, Keg yg Menghasilkan Brg & Jasa oleh RT yg Digunakan Sendiri utk Memenuhi Kebutuhan77\n"
     ]
    }
   ],
   "source": [
    "for i in table1.find_all('tbody'):\n",
    "    print(i.text)"
   ]
  },
  {
   "cell_type": "code",
   "execution_count": 6,
   "metadata": {},
   "outputs": [
    {
     "name": "stdout",
     "output_type": "stream",
     "text": [
      "['Pertanian, Kehutanan, dan Perikanan', '1108']\n",
      "['Pertambangan dan Penggalian', '22']\n",
      "['Industri Pengolahan', '4130']\n",
      "['Pengadaan Listrik, Gas, Uap Air Panas dan Udara Dingin', '12']\n",
      "['Pengadaan Air, Pengelolaan Sampah dan Daur Ulang, Pembuangan dan Pembersihan Limbah dan Sampah', '29']\n",
      "['Konstruksi', '162']\n",
      "['Perdagangan Besar dan Eceran Reparasi dan Perawatan Mobil dan Sepeda Motor', '5192']\n",
      "['Transportasi dan Pergudangan', '42']\n",
      "['Penyediaan Akomodasi dan Penyediaan Makan Minum', '844']\n",
      "['Informasi dan Komunikasi', '55']\n",
      "['Jasa Keuangan dan Asuransi', '20']\n",
      "['Real Estate', '1']\n",
      "['Jasa Profesional, Ilmiah dan Teknis', '363']\n",
      "['Jasa Persewaan dan Sewa Guna Usaha Tanpa Hak Opsi, Ketenagakerjaan, Agen Perjalanan dan Penunjang Usaha Lainnya', '99']\n",
      "['Administrasi Pemerintahan, Pertahanan dan Jaminan Sosial Wajib', '1']\n",
      "['Jasa Pendidikan', '16']\n",
      "['Jasa Kesehatan dan Kegiatan Sosial', '16']\n",
      "['Kesenian, Hiburan dan Rekreasi', '51']\n",
      "['Kegiatan Jasa Lainnya', '590']\n",
      "['Jasa Perorangan yg Melayani RT, Keg yg Menghasilkan Brg & Jasa oleh RT yg Digunakan Sendiri utk Memenuhi Kebutuhan', '77']\n"
     ]
    }
   ],
   "source": [
    "for j in table1.find_all('tr')[1:]:\n",
    "    row_data = j.find_all('td')\n",
    "    row = [i.text for i in row_data]\n",
    "    length = len(df_sektor)\n",
    "    print(row)\n",
    "    df_sektor.loc[length] = row"
   ]
  },
  {
   "cell_type": "code",
   "execution_count": 7,
   "metadata": {
    "scrolled": true
   },
   "outputs": [
    {
     "data": {
      "text/html": [
       "<div>\n",
       "<style scoped>\n",
       "    .dataframe tbody tr th:only-of-type {\n",
       "        vertical-align: middle;\n",
       "    }\n",
       "\n",
       "    .dataframe tbody tr th {\n",
       "        vertical-align: top;\n",
       "    }\n",
       "\n",
       "    .dataframe thead th {\n",
       "        text-align: right;\n",
       "    }\n",
       "</style>\n",
       "<table border=\"1\" class=\"dataframe\">\n",
       "  <thead>\n",
       "    <tr style=\"text-align: right;\">\n",
       "      <th></th>\n",
       "      <th>SEKTOR</th>\n",
       "      <th>JML_PERUSAHAAN</th>\n",
       "    </tr>\n",
       "  </thead>\n",
       "  <tbody>\n",
       "    <tr>\n",
       "      <th>0</th>\n",
       "      <td>Pertanian, Kehutanan, dan Perikanan</td>\n",
       "      <td>1108.0</td>\n",
       "    </tr>\n",
       "    <tr>\n",
       "      <th>1</th>\n",
       "      <td>Pertambangan dan Penggalian</td>\n",
       "      <td>22.0</td>\n",
       "    </tr>\n",
       "    <tr>\n",
       "      <th>2</th>\n",
       "      <td>Industri Pengolahan</td>\n",
       "      <td>4130.0</td>\n",
       "    </tr>\n",
       "    <tr>\n",
       "      <th>3</th>\n",
       "      <td>Pengadaan Listrik, Gas, Uap Air Panas dan Udar...</td>\n",
       "      <td>12.0</td>\n",
       "    </tr>\n",
       "    <tr>\n",
       "      <th>4</th>\n",
       "      <td>Pengadaan Air, Pengelolaan Sampah dan Daur Ula...</td>\n",
       "      <td>29.0</td>\n",
       "    </tr>\n",
       "    <tr>\n",
       "      <th>5</th>\n",
       "      <td>Konstruksi</td>\n",
       "      <td>162.0</td>\n",
       "    </tr>\n",
       "    <tr>\n",
       "      <th>6</th>\n",
       "      <td>Perdagangan Besar dan Eceran Reparasi dan Pera...</td>\n",
       "      <td>5192.0</td>\n",
       "    </tr>\n",
       "    <tr>\n",
       "      <th>7</th>\n",
       "      <td>Transportasi dan Pergudangan</td>\n",
       "      <td>42.0</td>\n",
       "    </tr>\n",
       "    <tr>\n",
       "      <th>8</th>\n",
       "      <td>Penyediaan Akomodasi dan Penyediaan Makan Minum</td>\n",
       "      <td>844.0</td>\n",
       "    </tr>\n",
       "    <tr>\n",
       "      <th>9</th>\n",
       "      <td>Informasi dan Komunikasi</td>\n",
       "      <td>55.0</td>\n",
       "    </tr>\n",
       "    <tr>\n",
       "      <th>10</th>\n",
       "      <td>Jasa Keuangan dan Asuransi</td>\n",
       "      <td>20.0</td>\n",
       "    </tr>\n",
       "    <tr>\n",
       "      <th>11</th>\n",
       "      <td>Real Estate</td>\n",
       "      <td>1.0</td>\n",
       "    </tr>\n",
       "    <tr>\n",
       "      <th>12</th>\n",
       "      <td>Jasa Profesional, Ilmiah dan Teknis</td>\n",
       "      <td>363.0</td>\n",
       "    </tr>\n",
       "    <tr>\n",
       "      <th>13</th>\n",
       "      <td>Jasa Persewaan dan Sewa Guna Usaha Tanpa Hak O...</td>\n",
       "      <td>99.0</td>\n",
       "    </tr>\n",
       "    <tr>\n",
       "      <th>14</th>\n",
       "      <td>Administrasi Pemerintahan, Pertahanan dan Jami...</td>\n",
       "      <td>1.0</td>\n",
       "    </tr>\n",
       "    <tr>\n",
       "      <th>15</th>\n",
       "      <td>Jasa Pendidikan</td>\n",
       "      <td>16.0</td>\n",
       "    </tr>\n",
       "    <tr>\n",
       "      <th>16</th>\n",
       "      <td>Jasa Kesehatan dan Kegiatan Sosial</td>\n",
       "      <td>16.0</td>\n",
       "    </tr>\n",
       "    <tr>\n",
       "      <th>17</th>\n",
       "      <td>Kesenian, Hiburan dan Rekreasi</td>\n",
       "      <td>51.0</td>\n",
       "    </tr>\n",
       "    <tr>\n",
       "      <th>18</th>\n",
       "      <td>Kegiatan Jasa Lainnya</td>\n",
       "      <td>590.0</td>\n",
       "    </tr>\n",
       "    <tr>\n",
       "      <th>19</th>\n",
       "      <td>Jasa Perorangan yg Melayani RT, Keg yg Menghas...</td>\n",
       "      <td>77.0</td>\n",
       "    </tr>\n",
       "  </tbody>\n",
       "</table>\n",
       "</div>"
      ],
      "text/plain": [
       "                                               SEKTOR  JML_PERUSAHAAN\n",
       "0                 Pertanian, Kehutanan, dan Perikanan          1108.0\n",
       "1                         Pertambangan dan Penggalian            22.0\n",
       "2                                 Industri Pengolahan          4130.0\n",
       "3   Pengadaan Listrik, Gas, Uap Air Panas dan Udar...            12.0\n",
       "4   Pengadaan Air, Pengelolaan Sampah dan Daur Ula...            29.0\n",
       "5                                          Konstruksi           162.0\n",
       "6   Perdagangan Besar dan Eceran Reparasi dan Pera...          5192.0\n",
       "7                        Transportasi dan Pergudangan            42.0\n",
       "8     Penyediaan Akomodasi dan Penyediaan Makan Minum           844.0\n",
       "9                            Informasi dan Komunikasi            55.0\n",
       "10                         Jasa Keuangan dan Asuransi            20.0\n",
       "11                                        Real Estate             1.0\n",
       "12                Jasa Profesional, Ilmiah dan Teknis           363.0\n",
       "13  Jasa Persewaan dan Sewa Guna Usaha Tanpa Hak O...            99.0\n",
       "14  Administrasi Pemerintahan, Pertahanan dan Jami...             1.0\n",
       "15                                    Jasa Pendidikan            16.0\n",
       "16                 Jasa Kesehatan dan Kegiatan Sosial            16.0\n",
       "17                     Kesenian, Hiburan dan Rekreasi            51.0\n",
       "18                              Kegiatan Jasa Lainnya           590.0\n",
       "19  Jasa Perorangan yg Melayani RT, Keg yg Menghas...            77.0"
      ]
     },
     "execution_count": 7,
     "metadata": {},
     "output_type": "execute_result"
    }
   ],
   "source": [
    "df_sektor = pd.read_csv('df_sektor.csv', index_col=0)\n",
    "df_sektor"
   ]
  },
  {
   "cell_type": "code",
   "execution_count": 8,
   "metadata": {},
   "outputs": [],
   "source": [
    "# doc_details = []\n",
    "# for i in range(df_sektor.shape[0]):\n",
    "#     print(i+1)\n",
    "#     driver = webdriver.Chrome()\n",
    "#     detail_url = 'https://www.bi.go.id/bisaid/bisaid/GetSektorDetail?Condition=ALL%7CALL%7C'+ str(i+1) + '%7C0%7C10'\n",
    "#     driver.get(url)\n",
    "#     time.sleep(5)\n",
    "#     html = driver.page_source\n",
    "#     soup = BeautifulSoup(html,'html.parser')\n",
    "#     doc_details.append(soup)"
   ]
  },
  {
   "cell_type": "code",
   "execution_count": 9,
   "metadata": {},
   "outputs": [],
   "source": [
    "# sektor_details_new = {}\n",
    "# for k in range(len(doc_details)):\n",
    "#     print(k)\n",
    "#     table = doc_details.find('table', id='tb_sektor_detail')\n",
    "#     headers = []\n",
    "#     for i in table.find_all('th'):\n",
    "#         header = i.text\n",
    "#         headers.append(header)\n",
    "#     headers.append(\"Onclick\")\n",
    "#     headers.append(\"Sektor\")\n",
    "#     df = pd.DataFrame(columns=headers)\n",
    "#     for j in table.find_all('tr')[1:]:\n",
    "#         row_data = j.find_all('td')\n",
    "#         row = [i.text for i in row_data]\n",
    "#         row_click = [\"none\"]\n",
    "#         if(j.find('a') is not None):\n",
    "#             row_click = [j.find('a').attrs['onclick']]\n",
    "#             result = re.findall(r\"\\(\\\"(.*)[^,]\\\"\", row_click[0])\n",
    "#             row_click = result[0].split(\",\")[0][:-1]\n",
    "\n",
    "#         row.append(row_click)\n",
    "#         row.append(df_sektor['SEKTOR'][k])\n",
    "#         length = len(df)\n",
    "#         if len(row) == len(headers):\n",
    "#             df.loc[length] = row\n",
    "#     sektor_details_new[k] = df"
   ]
  },
  {
   "cell_type": "code",
   "execution_count": 10,
   "metadata": {},
   "outputs": [],
   "source": [
    "docs_details = []\n",
    "for i in range(len(df_sektor)):\n",
    "    docs_details.append(pd.read_csv('output/sektor_details_'+str(i)+'_4.csv', index_col=0))"
   ]
  },
  {
   "cell_type": "code",
   "execution_count": 11,
   "metadata": {},
   "outputs": [
    {
     "data": {
      "text/html": [
       "<div>\n",
       "<style scoped>\n",
       "    .dataframe tbody tr th:only-of-type {\n",
       "        vertical-align: middle;\n",
       "    }\n",
       "\n",
       "    .dataframe tbody tr th {\n",
       "        vertical-align: top;\n",
       "    }\n",
       "\n",
       "    .dataframe thead th {\n",
       "        text-align: right;\n",
       "    }\n",
       "</style>\n",
       "<table border=\"1\" class=\"dataframe\">\n",
       "  <thead>\n",
       "    <tr style=\"text-align: right;\">\n",
       "      <th></th>\n",
       "      <th>Usaha /Produk Utama</th>\n",
       "      <th>Total Aset (Rp. Juta)</th>\n",
       "      <th>Penjualan Rata-rata Per Tahun (Rp.Juta)</th>\n",
       "      <th>Jumlah Tenaga Kerja</th>\n",
       "      <th>Tahun Survey</th>\n",
       "      <th>Onclick</th>\n",
       "      <th>Sektor</th>\n",
       "    </tr>\n",
       "    <tr>\n",
       "      <th>Nama Perusahaan/Nama Pengusaha</th>\n",
       "      <th></th>\n",
       "      <th></th>\n",
       "      <th></th>\n",
       "      <th></th>\n",
       "      <th></th>\n",
       "      <th></th>\n",
       "      <th></th>\n",
       "    </tr>\n",
       "  </thead>\n",
       "  <tbody>\n",
       "    <tr>\n",
       "      <th>Kios Peracangan</th>\n",
       "      <td>Pupuk</td>\n",
       "      <td>361</td>\n",
       "      <td>325</td>\n",
       "      <td>1</td>\n",
       "      <td>2012</td>\n",
       "      <td>?pm=w+TTKcEqnkNI9YbhGbMmvQ==&amp;mp=p1ca+Y2BZCwOZV...</td>\n",
       "      <td>Pertanian, Kehutanan, dan Perikanan</td>\n",
       "    </tr>\n",
       "    <tr>\n",
       "      <th>CANDRA KIRANA</th>\n",
       "      <td>Rumah Makan Ikan Bakar</td>\n",
       "      <td>883</td>\n",
       "      <td>339,99</td>\n",
       "      <td>15</td>\n",
       "      <td>2011</td>\n",
       "      <td>?pm=CA08PINKsin/6alrAeDstw==&amp;mp=Bjv3m4lcInn46O...</td>\n",
       "      <td>Pertanian, Kehutanan, dan Perikanan</td>\n",
       "    </tr>\n",
       "    <tr>\n",
       "      <th>Kangkung Gn IV</th>\n",
       "      <td>Kebun</td>\n",
       "      <td>201,7</td>\n",
       "      <td>3</td>\n",
       "      <td>2</td>\n",
       "      <td>2013</td>\n",
       "      <td>?pm=YBRDVhPEXPvgyjIf8iKi3Q==&amp;mp=fOhzApotY5QnAt...</td>\n",
       "      <td>Pertanian, Kehutanan, dan Perikanan</td>\n",
       "    </tr>\n",
       "    <tr>\n",
       "      <th>Petani Karet</th>\n",
       "      <td>Perkebunan Karet</td>\n",
       "      <td>22,5</td>\n",
       "      <td>9</td>\n",
       "      <td>1</td>\n",
       "      <td>2014</td>\n",
       "      <td>?pm=4kARD7cKc9cXw4CeMceHUA==&amp;mp=xI6rAeQkygTAn3...</td>\n",
       "      <td>Pertanian, Kehutanan, dan Perikanan</td>\n",
       "    </tr>\n",
       "    <tr>\n",
       "      <th>Pekebun</th>\n",
       "      <td>Tanah Palawija</td>\n",
       "      <td>91,1</td>\n",
       "      <td>44,4</td>\n",
       "      <td>1</td>\n",
       "      <td>2014</td>\n",
       "      <td>?pm=E1ITtDbwqRPZuksVEFmwew==&amp;mp=xI6rAeQkygTAn3...</td>\n",
       "      <td>Pertanian, Kehutanan, dan Perikanan</td>\n",
       "    </tr>\n",
       "    <tr>\n",
       "      <th>...</th>\n",
       "      <td>...</td>\n",
       "      <td>...</td>\n",
       "      <td>...</td>\n",
       "      <td>...</td>\n",
       "      <td>...</td>\n",
       "      <td>...</td>\n",
       "      <td>...</td>\n",
       "    </tr>\n",
       "    <tr>\n",
       "      <th>Ternak Ayam Kampung</th>\n",
       "      <td>Ternak Ayam Kampung</td>\n",
       "      <td>41,5</td>\n",
       "      <td>144</td>\n",
       "      <td>1</td>\n",
       "      <td>2014</td>\n",
       "      <td>?pm=tuGcLxtBR4df525nOXhaew==&amp;mp=xI6rAeQkygTAn3...</td>\n",
       "      <td>Pertanian, Kehutanan, dan Perikanan</td>\n",
       "    </tr>\n",
       "    <tr>\n",
       "      <th>Petani Padi</th>\n",
       "      <td>Petani Padi</td>\n",
       "      <td>54,72</td>\n",
       "      <td>27</td>\n",
       "      <td>1</td>\n",
       "      <td>2016</td>\n",
       "      <td>?pm=nfW29lHUm+FcxRtIESDWBQ==&amp;mp=5JdvraNzQnzSzI...</td>\n",
       "      <td>Pertanian, Kehutanan, dan Perikanan</td>\n",
       "    </tr>\n",
       "    <tr>\n",
       "      <th>Petani Padi</th>\n",
       "      <td>Petani Padi</td>\n",
       "      <td>50,5</td>\n",
       "      <td>47,25</td>\n",
       "      <td>2</td>\n",
       "      <td>2016</td>\n",
       "      <td>?pm=+lldrrWsa5pGtTMoqbCIUg==&amp;mp=5JdvraNzQnzSzI...</td>\n",
       "      <td>Pertanian, Kehutanan, dan Perikanan</td>\n",
       "    </tr>\n",
       "    <tr>\n",
       "      <th>Petani Sayur</th>\n",
       "      <td>Sayur</td>\n",
       "      <td>5,2</td>\n",
       "      <td>9,6</td>\n",
       "      <td>2</td>\n",
       "      <td>2016</td>\n",
       "      <td>?pm=0pWUBVTwHGxUWmXXkN6dVQ==&amp;mp=5JdvraNzQnzSzI...</td>\n",
       "      <td>Pertanian, Kehutanan, dan Perikanan</td>\n",
       "    </tr>\n",
       "    <tr>\n",
       "      <th>Sanusi</th>\n",
       "      <td>Perikanan</td>\n",
       "      <td>18,9</td>\n",
       "      <td>52</td>\n",
       "      <td>2</td>\n",
       "      <td>2018</td>\n",
       "      <td>?pm=yBb1jo897LzR2Ucz0Y1GTQ==&amp;mp=tFF9KAXBbci/Ue...</td>\n",
       "      <td>Pertanian, Kehutanan, dan Perikanan</td>\n",
       "    </tr>\n",
       "  </tbody>\n",
       "</table>\n",
       "<p>257 rows × 7 columns</p>\n",
       "</div>"
      ],
      "text/plain": [
       "                                   Usaha /Produk Utama Total Aset (Rp. Juta)  \\\n",
       "Nama Perusahaan/Nama Pengusaha                                                 \n",
       " Kios Peracangan                                 Pupuk                   361   \n",
       " CANDRA KIRANA                  Rumah Makan Ikan Bakar                   883   \n",
       " Kangkung Gn IV                                  Kebun                 201,7   \n",
       " Petani Karet                         Perkebunan Karet                  22,5   \n",
       " Pekebun                                Tanah Palawija                  91,1   \n",
       "...                                                ...                   ...   \n",
       " Ternak Ayam Kampung               Ternak Ayam Kampung                  41,5   \n",
       " Petani Padi                               Petani Padi                 54,72   \n",
       " Petani Padi                               Petani Padi                  50,5   \n",
       " Petani Sayur                                    Sayur                   5,2   \n",
       " Sanusi                                      Perikanan                  18,9   \n",
       "\n",
       "                               Penjualan Rata-rata Per Tahun (Rp.Juta)  \\\n",
       "Nama Perusahaan/Nama Pengusaha                                           \n",
       " Kios Peracangan                                                   325   \n",
       " CANDRA KIRANA                                                  339,99   \n",
       " Kangkung Gn IV                                                      3   \n",
       " Petani Karet                                                        9   \n",
       " Pekebun                                                          44,4   \n",
       "...                                                                ...   \n",
       " Ternak Ayam Kampung                                               144   \n",
       " Petani Padi                                                        27   \n",
       " Petani Padi                                                     47,25   \n",
       " Petani Sayur                                                      9,6   \n",
       " Sanusi                                                             52   \n",
       "\n",
       "                                Jumlah Tenaga Kerja  Tahun Survey  \\\n",
       "Nama Perusahaan/Nama Pengusaha                                      \n",
       " Kios Peracangan                                  1          2012   \n",
       " CANDRA KIRANA                                   15          2011   \n",
       " Kangkung Gn IV                                   2          2013   \n",
       " Petani Karet                                     1          2014   \n",
       " Pekebun                                          1          2014   \n",
       "...                                             ...           ...   \n",
       " Ternak Ayam Kampung                              1          2014   \n",
       " Petani Padi                                      1          2016   \n",
       " Petani Padi                                      2          2016   \n",
       " Petani Sayur                                     2          2016   \n",
       " Sanusi                                           2          2018   \n",
       "\n",
       "                                                                          Onclick  \\\n",
       "Nama Perusahaan/Nama Pengusaha                                                      \n",
       " Kios Peracangan                ?pm=w+TTKcEqnkNI9YbhGbMmvQ==&mp=p1ca+Y2BZCwOZV...   \n",
       " CANDRA KIRANA                  ?pm=CA08PINKsin/6alrAeDstw==&mp=Bjv3m4lcInn46O...   \n",
       " Kangkung Gn IV                 ?pm=YBRDVhPEXPvgyjIf8iKi3Q==&mp=fOhzApotY5QnAt...   \n",
       " Petani Karet                   ?pm=4kARD7cKc9cXw4CeMceHUA==&mp=xI6rAeQkygTAn3...   \n",
       " Pekebun                        ?pm=E1ITtDbwqRPZuksVEFmwew==&mp=xI6rAeQkygTAn3...   \n",
       "...                                                                           ...   \n",
       " Ternak Ayam Kampung            ?pm=tuGcLxtBR4df525nOXhaew==&mp=xI6rAeQkygTAn3...   \n",
       " Petani Padi                    ?pm=nfW29lHUm+FcxRtIESDWBQ==&mp=5JdvraNzQnzSzI...   \n",
       " Petani Padi                    ?pm=+lldrrWsa5pGtTMoqbCIUg==&mp=5JdvraNzQnzSzI...   \n",
       " Petani Sayur                   ?pm=0pWUBVTwHGxUWmXXkN6dVQ==&mp=5JdvraNzQnzSzI...   \n",
       " Sanusi                         ?pm=yBb1jo897LzR2Ucz0Y1GTQ==&mp=tFF9KAXBbci/Ue...   \n",
       "\n",
       "                                                             Sektor  \n",
       "Nama Perusahaan/Nama Pengusaha                                       \n",
       " Kios Peracangan                Pertanian, Kehutanan, dan Perikanan  \n",
       " CANDRA KIRANA                  Pertanian, Kehutanan, dan Perikanan  \n",
       " Kangkung Gn IV                 Pertanian, Kehutanan, dan Perikanan  \n",
       " Petani Karet                   Pertanian, Kehutanan, dan Perikanan  \n",
       " Pekebun                        Pertanian, Kehutanan, dan Perikanan  \n",
       "...                                                             ...  \n",
       " Ternak Ayam Kampung            Pertanian, Kehutanan, dan Perikanan  \n",
       " Petani Padi                    Pertanian, Kehutanan, dan Perikanan  \n",
       " Petani Padi                    Pertanian, Kehutanan, dan Perikanan  \n",
       " Petani Sayur                   Pertanian, Kehutanan, dan Perikanan  \n",
       " Sanusi                         Pertanian, Kehutanan, dan Perikanan  \n",
       "\n",
       "[257 rows x 7 columns]"
      ]
     },
     "execution_count": 11,
     "metadata": {},
     "output_type": "execute_result"
    }
   ],
   "source": [
    "docs_details[0]"
   ]
  },
  {
   "cell_type": "code",
   "execution_count": 12,
   "metadata": {},
   "outputs": [
    {
     "name": "stdout",
     "output_type": "stream",
     "text": [
      "257 1 1082 5 7 13 1105 3 272 9 4 0 78 16 0 2 5 11 108 20 \n",
      " 2998\n"
     ]
    }
   ],
   "source": [
    "sum_df = 0\n",
    "for i in range(len(docs_details)):\n",
    "    sum_df += docs_details[i].shape[0]\n",
    "    print(docs_details[i].shape[0], end=\" \")\n",
    "print('\\n', sum_df)"
   ]
  },
  {
   "cell_type": "code",
   "execution_count": 13,
   "metadata": {},
   "outputs": [
    {
     "data": {
      "text/plain": [
       "['Usaha /Produk Utama',\n",
       " 'Total Aset (Rp. Juta)',\n",
       " 'Penjualan Rata-rata Per Tahun (Rp.Juta)',\n",
       " 'Jumlah Tenaga Kerja',\n",
       " 'Tahun Survey',\n",
       " 'Onclick',\n",
       " 'Sektor']"
      ]
     },
     "execution_count": 13,
     "metadata": {},
     "output_type": "execute_result"
    }
   ],
   "source": [
    "docs_details[0].columns.values.tolist()"
   ]
  },
  {
   "cell_type": "code",
   "execution_count": null,
   "metadata": {},
   "outputs": [
    {
     "name": "stdout",
     "output_type": "stream",
     "text": [
      "docs_details 6\n",
      "0,1,2,3,4,5,6,7,8,9,10,11,12,13,14,15,16,17,18,19,20,21,22,23,24,25,26,27,28,29,30,31,32,33,34,35,36,37,38,39,40,41,42,43,44,45,46,47,48,49,50,51,52,53,54,55,56,57,58,59,60,61,62,63,64,65,66,67,68,69,70,71,72,73,74,75,76,77,78,79,80,81,82,83,84,85,86,87,88,89,90,91,92,93,94,95,96,97,98,99,100,101,102,103,104,105,106,107,108,109,110,111,112,113,114,115,116,117,118,119,120,121,122,123,124,125,126,127,128,129,130,131,132,133,134,135,136,137,138,139,140,141,142,143,144,145,146,147,148,149,150,151,152,153,154,155,156,157,158,159,160,161,162,163,164,165,166,167,168,169,170,171,172,173,174,175,176,177,178,179,180,181,182,183,184,185,186,187,188,189,190,191,192,193,194,195,196,197,198,199,200,201,202,203,204,205,206,207,208,209,210,211,212,213,214,215,216,217,218,219,220,221,222,223,224,225,226,227,228,229,230,231,232,233,234,235,236,237,238,239,240,241,242,243,244,245,246,247,248,249,250,251,252,253,254,255,256,257,258,259,260,261,262,263,264,265,266,267,268,269,270,271,272,273,274,275,276,277,278,279,280,281,282,283,284,285,286,287,288,289,290,291,292,293,294,295,296,297,298,299,300,301,302,303,304,305,306,307,308,309,310,311,312,313,314,315,316,317,318,319,320,321,322,323,324,325,326,327,328,329,330,331,332,333,334,335,336,337,338,339,340,341,342,343,344,345,346,347,348,349,350,351,352,353,354,355,356,357,358,359,360,361,362,363,364,365,366,367,368,369,370,371,372,373,374,375,376,377,378,379,380,381,382,383,384,385,386,387,388,389,390,391,392,393,394,395,396,397,398,399,400,401,402,403,404,405,406,407,408,409,410,411,412,413,414,415,416,417,418,419,420,421,422,423,424,425,426,427,428,429,430,431,432,433,434,435,436,437,438,439,440,441,442,443,444,445,446,447,448,449,450,451,452,453,454,455,456,457,458,459,460,461,462,463,464,465,466,467,468,469,470,471,472,473,474,475,476,477,478,479,480,481,482,483,484,485,486,487,488,489,490,491,492,493,494,495,496,497,498,499,500,501,502,503,504,505,506,507,508,509,510,511,512,513,514,515,516,517,518,519,520,521,522,523,524,525,526,527,528,529,530,531,532,533,534,535,536,537,538,539,540,541,542,543,544,545,546,547,548,549,550,551,552,553,554,555,556,557,558,559,560,561,562,563,564,565,566,567,568,569,570,571,572,573,574,575,576,577,578,579,580,581,582,583,584,585,586,587,588,589,590,591,592,593,594,595,596,597,598,599,600,601,602,603,604,605,606,607,608,609,610,611,612,613,614,615,616,617,618,619,620,621,622,623,624,625,626,627,628,629,630,631,632,633,634,635,636,637,638,639,640,641,642,643,644,645,646,647,648,649,650,651,652,653,654,655,656,657,658,659,660,661,662,663,664,665,666,667,668,669,670,671,672,673,674,675,676,677,678,679,680,681,682,683,684,685,686,687,688,689,690,691,692,693,694,695,696,697,698,699,700,701,702,703,704,705,706,707,708,709,710,711,712,713,714,715,716,717,718,719,720,721,722,723,724,725,726,727,728,729,730,731,732,733,734,735,736,737,738,739,740,741,742,743,744,745,746,747,748,749,750,751,752,753,754,755,756,757,758,759,760,761,762,763,764,765,766,767,768,769,770,771,772,773,774,775,776,777,778,779,780,781,782,783,784,785,786,787,788,789,790,791,792,793,794,795,796,797,798,799,800,801,802,803,804,805,806,807,808,809,810,811,812,813,814,815,816,817,818,819,820,821,822,823,824,825,826,827,828,829,830,831,832,833,834,835,836,837,838,839,840,841,842,843,844,845,846,847,848,849,850,851,852,853,854,855,856,857,858,859,860,861,862,863,864,865,866,867,868,869,870,871,872,873,874,875,876,877,878,879,880,881,882,883,884,885,886,887,888,889,890,891,892,893,894,895,896,897,898,899,900,901,902,903,904,905,906,907,908,909,910,911,912,913,914,915,916,917,918,919,920,921,922,923,924,925,926,927,928,929,930,931,932,933,934,935,936,937,938,939,940,941,942,943,944,945,946,947,948,949,950,951,952,953,954,955,956,957,958,959,960,961,962,963,964,965,966,967,968,969,970,971,972,973,974,975,976,977,978,979,980,981,982,983,984,985,986,987,988,989,990,991,992,993,994,995,996,997,998,999,1000,1001,1002,1003,1004,1005,1006,1007,1008,1009,1010,1011,1012,1013,1014,1015,1016,1017,1018,1019,1020,1021,1022,1023,1024,1025,1026,1027,1028,1029,1030,1031,1032,1033,1034,1035,1036,1037,1038,1039,1040,1041,1042,1043,1044,1045,1046,1047,1048,1049,1050,1051,1052,1053,1054,1055,1056,1057,1058,1059,1060,1061,1062,1063,1064,1065,1066,1067,1068,1069,1070,1071,1072,1073,1074,1075,1076,1077,1078,1079,1080,1081,1082,1083,1084,1085,1086,1087,1088,1089,1090,1091,1092,1093,1094,"
     ]
    }
   ],
   "source": [
    "import csv\n",
    "from csv import writer\n",
    "\n",
    "new_headers = [\"Nama Badan Hukum\", \"Jumlah Tenaga Kerja\", \"Sistem Penjualan\", \"Target Pasar Utama : Produk Masal\", \"Target Pasar Utama : Produk Spesifik\", \"Tingkat Pesaing Usaha\", \"Total Aset\", \"Penjualan Rata-Rata per Tahun\", \"Proyeksi Pertumbuhan Penjualan\", \"Kebutuhan Pembiayaan Kredit \", \"Nilai Aset yang data menjadi jaminan kredit\", \"Jumlah Dokumen Persyaratan Kredit\"]\n",
    "additional_columns = {}\n",
    "for key in new_headers:\n",
    "    additional_columns[key] = []\n",
    "last = 0\n",
    "# for i in range(len(docs_details)):\n",
    "for i in [6]:\n",
    "    print(\"docs_details\", i)\n",
    "    with open('output/docs_details_'+str(i)+'.csv', 'a', newline='', encoding='utf-8') as file:\n",
    "        writer = csv.writer(file)\n",
    "#         writer.writerow(docs_details[i].columns.values.tolist() + new_headers)\n",
    "        base_url = 'https://www.bi.go.id/bisaid/bisaid/Detail'\n",
    "        for j in range(len(docs_details[i])):\n",
    "#             if j > 108:\n",
    "                detail_url = base_url + docs_details[i]['Onclick'][j]\n",
    "                print(j, end=\",\")\n",
    "                last = j\n",
    "                page = requests.get(detail_url)\n",
    "                soup = BeautifulSoup(page.content, 'html.parser')\n",
    "                table_detail = soup.find('div', {\"class\": \"table-responsive\"}).find('tbody')\n",
    "                rows = docs_details[i].iloc[j].values.flatten().tolist()\n",
    "                for k in table_detail.find_all('tr'):\n",
    "                    row_data = k.find_all('td')\n",
    "                    row = [i.text for i in row_data]  \n",
    "                    rows.append(row[3])\n",
    "                writer.writerow(rows)\n",
    "    #             print(rows)\n",
    "                if j%25 == 0:\n",
    "                    time.sleep(3)"
   ]
  },
  {
   "cell_type": "code",
   "execution_count": null,
   "metadata": {},
   "outputs": [],
   "source": [
    "list(range(7, 20))"
   ]
  },
  {
   "cell_type": "code",
   "execution_count": null,
   "metadata": {},
   "outputs": [],
   "source": [
    "# for i in range(len(sektor_details_new)):\n",
    "#     sektor_details_new[i].to_csv('output/sektor_details_new'+str(i)+'.csv',index=False)"
   ]
  },
  {
   "cell_type": "code",
   "execution_count": null,
   "metadata": {},
   "outputs": [],
   "source": [
    "# detail_dfs = pd.DataFrame()\n",
    "# for i in range(len(sektor_details)):\n",
    "#     detail_df = pd.read_csv('output/sektor_details_'+str(i)+'_4.csv')\n",
    "#     if i == 0:\n",
    "#         detail_dfs = detail_df\n",
    "#     else:\n",
    "#         pd.concat([detail_dfs, detail_df])"
   ]
  },
  {
   "cell_type": "code",
   "execution_count": null,
   "metadata": {},
   "outputs": [],
   "source": [
    "# detail_dfs.to_csv('output/sektor_details_all.csv',index=False)"
   ]
  },
  {
   "cell_type": "code",
   "execution_count": null,
   "metadata": {},
   "outputs": [],
   "source": [
    "# detail_dfs.shape"
   ]
  },
  {
   "cell_type": "code",
   "execution_count": null,
   "metadata": {
    "scrolled": true
   },
   "outputs": [],
   "source": [
    "# trial to get detail page\n",
    "base_url = 'https://www.bi.go.id/bisaid/bisaid/Detail'\n",
    "detail_url = base_url + sektor_details[0]['Onclick'][0]\n",
    "print(detail_url)\n",
    "\n",
    "page = requests.get(detail_url)\n",
    "soup = BeautifulSoup(page.content, 'html.parser')\n",
    "table_detail = soup.find('div', {\"class\": \"table-responsive\"}).find('tbody')\n",
    "for j in table_detail.find_all('tr'):\n",
    "    row_data = j.find_all('td')\n",
    "    row = [i.text for i in row_data]\n",
    "    print(row)"
   ]
  },
  {
   "cell_type": "code",
   "execution_count": null,
   "metadata": {},
   "outputs": [],
   "source": [
    "# # trial regex to get url\n",
    "# result = re.findall(r\"\\(\\\"(.*)[^,]\\\"\", sektor_details[0]['Onclick'][0][0])\n",
    "# result[0].split(\",\")[0][:-1]"
   ]
  },
  {
   "cell_type": "code",
   "execution_count": null,
   "metadata": {},
   "outputs": [],
   "source": [
    "# sektor_details[0]['Onclick'][0][0]"
   ]
  },
  {
   "cell_type": "code",
   "execution_count": null,
   "metadata": {},
   "outputs": [],
   "source": [
    "# df_doc_details.to_csv('df_doc_details.csv')"
   ]
  },
  {
   "cell_type": "markdown",
   "metadata": {},
   "source": [
    "# Trials"
   ]
  },
  {
   "cell_type": "code",
   "execution_count": null,
   "metadata": {},
   "outputs": [],
   "source": [
    "import requests\n",
    "import pandas as pd\n",
    "from bs4 import BeautifulSoup"
   ]
  },
  {
   "cell_type": "code",
   "execution_count": null,
   "metadata": {},
   "outputs": [],
   "source": [
    "url = 'https://www.bi.go.id/bisaid/bisaid/GetSektor?Condition=%7C'\n",
    "page = requests.get(url)\n",
    "page_json = page.json()\n",
    "page_json"
   ]
  },
  {
   "cell_type": "code",
   "execution_count": null,
   "metadata": {
    "scrolled": true
   },
   "outputs": [],
   "source": [
    "df_sektor = pd.DataFrame(page_json)[['SEKTOR', 'JML_PERUSAHAAN']]\n",
    "print(df_sektor.shape)\n",
    "# df_sektor.to_csv('df_sektor.csv')\n",
    "df_sektor"
   ]
  },
  {
   "cell_type": "code",
   "execution_count": null,
   "metadata": {},
   "outputs": [],
   "source": [
    "list_detail = []\n",
    "for i in range(0, df_sektor.shape[0]):\n",
    "#     print(i+1)\n",
    "    detail_url = 'https://www.bi.go.id/bisaid/bisaid/GetSektorDetail?Condition=ALL%7CALL%7C'+ str(i+1) + '%7C0%7C10'\n",
    "    list_temp = requests.get(detail_url).json()\n",
    "    \n",
    "    if 'result' not in list_temp:\n",
    "        if i == 0:\n",
    "            list_detail = list_temp\n",
    "        else:\n",
    "            list_detail = list_detail + list_temp"
   ]
  },
  {
   "cell_type": "code",
   "execution_count": null,
   "metadata": {},
   "outputs": [],
   "source": [
    "df_detail = pd.DataFrame(list_detail)\n",
    "# df_detail.to_csv('df_detail.csv')\n",
    "df_detail"
   ]
  },
  {
   "cell_type": "code",
   "execution_count": null,
   "metadata": {},
   "outputs": [],
   "source": [
    "import numpy as np\n",
    "np.set_printoptions(threshold=np.inf)\n",
    "print(df_detail['SEKTOR'].unique())"
   ]
  },
  {
   "cell_type": "code",
   "execution_count": null,
   "metadata": {},
   "outputs": [],
   "source": []
  }
 ],
 "metadata": {
  "kernelspec": {
   "display_name": "Python 3",
   "language": "python",
   "name": "python3"
  },
  "language_info": {
   "codemirror_mode": {
    "name": "ipython",
    "version": 3
   },
   "file_extension": ".py",
   "mimetype": "text/x-python",
   "name": "python",
   "nbconvert_exporter": "python",
   "pygments_lexer": "ipython3",
   "version": "3.8.5"
  }
 },
 "nbformat": 4,
 "nbformat_minor": 5
}
